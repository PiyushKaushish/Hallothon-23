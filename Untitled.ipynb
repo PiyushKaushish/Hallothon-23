{
 "cells": [
  {
   "cell_type": "code",
   "execution_count": 1,
   "id": "fb7a6965",
   "metadata": {},
   "outputs": [],
   "source": [
    "import requests\n",
    "from bs4 import BeautifulSoup"
   ]
  },
  {
   "cell_type": "code",
   "execution_count": 2,
   "id": "91474ee6",
   "metadata": {},
   "outputs": [],
   "source": [
    "url = \"https://www.livemint.com/news/sebi-probing-adani-groups-ties-with-gulf-asia-report-11697016796743.html\"\n",
    "\n",
    "response = requests.get(url)\n"
   ]
  },
  {
   "cell_type": "code",
   "execution_count": 3,
   "id": "35cb4902",
   "metadata": {},
   "outputs": [],
   "source": [
    "soup = BeautifulSoup(response.content, \"html.parser\")"
   ]
  },
  {
   "cell_type": "code",
   "execution_count": 4,
   "id": "ce80ad19",
   "metadata": {},
   "outputs": [
    {
     "data": {
      "text/plain": [
       "'\\n          \\n\\n\\n\\n\\n\\n\\nSEBI probing Adani Group\\'s ties with Gulf Asia fund: Report | Mint\\n\\n\\n\\n\\n\\n\\n\\n\\n\\n\\n\\n\\n\\n\\n\\n\\n\\n\\n\\n\\n\\n\\n\\n\\n\\n\\n\\n\\n\\n\\n\\n\\n\\n\\n\\n\\n\\n  \\n\\n\\n\\n\\n \\n  \\n\\n\\n\\n\\n          Explore    Sign in e-paper Subscribe Saturday, 14 October 2023              Stocks       Mutual Funds       News                     Home Latest News Markets Premium Money Mutual Fund Industry Companies Technology Web Stories Opinion Videos      All Companies  Technology Markets Money Mutual Funds Insurance Auto  Industry  Personal Finance        Hello User  Sign in      Sign Out     My Account My Account Subscribe  My Watchlist   Newsletters   Notifications      My Reads   For You   View Less -  View More +   Data Insights   Market Dashboard   Bullion      Gold   Silver     Fuel      Petrol   Diesel     Commodities      Gold   GoldM   Aluminum   Menthaoil   Silver   SilverMIC   GoldPetal   Natural Gas   Copper   Zinc   SilverM   CrudeOil   GoldGinuea   Lead        CryptoCurrencies   View Less -  View More +   Top Sections   News      India News   World News   Elections 2023     Companies      IPO News   Start-ups   Company Results   Top Company Leader     Money      Personal Finance   Q&A   Opinion     Markets      Stock Markets   Commodity News   Mark To Market   IPO News   Live Blog     Industry      Banking News   Infotech News   Infrastructure   Agriculture   Manufacturing   Energy News   Retail News   Auto News   Sports        Opinion      Views   Columns     Technology      Gadgets   Tech Reviews   App News     Politics   Education   Lounge   View Less -  View More +   Premium Offerings   e-paper   WSJ   Economist      Mint Premium   View Less -  View More +   Tools and Calculators   IFSC Code Finder   Income Tax Calculator   SIP Calculator      EMI Calculator   Home Loan EMI Calculator   Car Loan EMI   NPS Calculator   View Less -  View More +   MultiMedia Collections   Videos   WebStories   Photo Gallery      Podcasts   View Less -  View More +   More From Mint   Mint Genie     Explore Mint  About Us Print Subscription Mint Authors    Terms of Use Disclaimer Mint Code Code of ethics Cookie Policy Privacy Policy Subscriber - Terms of Use SITEMAP Contact Us Mint Apps  View Less -  View More +  Copyright © HT Digital Streams Limited All Rights Reserved.   \\n\\n\\n\\n\\n\\n\\n\\n\\n\\nGainers & Losers\\nFri Oct 13 2023 15:56:45\\n\\nTop Gainers\\nTop Losers\\n\\n\\n\\nTata Motors share price\\n667.154.76%\\n\\n\\n\\n\\nIndusind Bank share price\\n1,461.252.6%\\n\\n\\n\\n\\nHCL Technologies share price\\n1,255.32.55%\\n\\n\\n\\n\\nNestle India share price\\n23,538.252%\\n\\n\\n\\n\\nMaruti Suzuki India share price\\n10,747.951.62%\\n\\n\\n\\n\\nAxis Bank share price\\n993.95-2.33%\\n\\n\\n\\n\\nInfosys share price\\n1,431.8-2.24%\\n\\n\\n\\n\\nState Bank Of India share price\\n576.15-1.71%\\n\\n\\n\\n\\nWipro share price\\n411.05-1.43%\\n\\n\\n\\n\\nHDFC Bank share price\\n1,536.75-0.85%\\n\\n\\n\\n\\n\\n\\n\\n\\nActive Stocks\\nFri Oct 13 2023 15:51:17 \\n\\n\\n\\tTata Steel share price \\n125  -0.68%\\n\\n\\n\\n\\n\\tHDFC Bank share price \\n1,536.75  -0.85%\\n\\n\\n\\n\\n\\tState Bank Of India share price \\n576.15  -1.71%\\n\\n\\n\\n\\n\\tInfosys share price \\n1,431.8  -2.24%\\n\\n\\n\\n\\n\\tTata Motors share price \\n667.15  4.76%\\n\\n\\n\\n\\n\\n\\n\\n Business News/ News /  SEBI probing Adani Group\\'s ties with Gulf Asia fund: Report \\n\\n\\n\\n\\n\\n\\n\\nBack\\n\\n\\n\\n\\nShare Via\\n\\n\\n\\n\\n\\n\\n\\n\\n \\n\\n\\n\\n\\nSEBI probing Adani Group\\'s ties with Gulf Asia fund: Report\\n\\n\\n2 min read\\n11 Oct 2023, 03:04 PM IST\\n\\nJoin us \\n\\n\\nLivemint\\n\\nThe investigation has been launched to ascertain whether any share ownership rules were flouted, the report said, adding that the fund is owned by Dubai-based businessman Nasser Ali Shaban Ali.\\n\\n\\n\\n\\n\\n\\n\\n\\n\\nPremium\\nFILE PHOTO: The logo of the Adani Group is seen on the facade of its Corporate House on the outskirts of Ahmedabad, India, January 27, 2023. REUTERS/Amit Dave/File Photo (REUTERS)\\n\\n\\n\\n\\n\\nRead Full Story  \\n\\n\\n\\n\\n       The Securities and Exchange Board of India is probing the ties between India\\'s ports-to-power conglomerate Adani Group and Gulf Asia Trade & Investment, a fund that is incorporated in the British Virgin Islands, news agency Reuters reported on October 11, citing sources who are privy to the development. \\n\\n\\n\\n\\n\\n\\n\\n    The investigation has been launched to ascertain whether any share ownership rules were flouted, the report claimed, based on the inputs it received from two persons who are aware of the matter. \\n\\n\\n\\n   The Gulf Asia fund, the report said, is owned by Dubai-based businessman Nasser Ali Shaban Ali as per the checks on its website last month. The website has since been pulled down, it added.        As per the data shared by the Organised Crime and Corruption Reporting Project (OCCRP) with Reuters, the fund has invested in several listed Adani entities.  Exciting news! Mint is now on WhatsApp Channels. Subscribe today by clicking the link and stay updated with the latest financial insights! Click here!    The latest probe, as per the report, is part of the Indian market regulator\\'s investigation into the Gautam Adani-led conglomerate, which was accused of accountancy fraud and stocks manipulation, in a damning report released by short-seller Hindenburg Research in January. The report had alleged that offshore shell firms \"surreptitiously\" owned stake in Adani\\'s listed arms, thereby posing governance risks.    The SEBI probing officials could be closely looking at whether the ties between the Gulf Asia fund and Adani Group would be deemed to be acting “in concert\" with the conglomerate\\'s shareholders, the sources who spoke to Reuters said.    Adani Group has so far rejected the allegation of opaque funding and accountancy fraud. The company dismissed the charges levelled by OCCRP, and had described the report released by Hindenburg as a “calculated attack on India\".    The OCCRP data, shared with Reuters, shows that Gulf Asia started investing in Adani\\'s listed firms months after SEBI had, in June 2013, directed a total of 105 companies to raise the number of shares held by the public to at least 2 percent of their total floats.    Gulf Asia held shares worth $51.4 million in two Adani entities – the flagship Adani Enterprises and Adani Power – as of April 2014, the report said, citing OCCRP data.\\xa0    The shareholding increased to $202 million in four entities – Adani Enterprises, Adani Transmission, Adani Ports and Adani Power, the report added, further stating that Adani Enterprises did not list Gulf Asia as a related party in its annual reports.    Adani Group was yet to issue a statement in response to the Reuters report as the time of publishing this report. The Gulf Asia fund was also yet to react to the news.    In a statement issued in September, days after OCCRP released its startling report that raised questions against the Adani Group, the company had said: “We categorically reject these recycled allegations. These news reports appear to be yet another concerted bid by Soros-funded interests supported by a section of the foreign media to revive the meritless Hindenburg report.\" \\n\"Exciting news! Mint is now on WhatsApp Channels 🚀 Subscribe today by clicking the link and stay updated with the latest financial insights!\" Click here! \\n\\n\\n\\nRelated Premium Stories\\n\\n\\n\\n\\n\\n\\n\\n\\nVery concerned about Lava MD Hari Om Rai’s arrest: Rajeev Chandrasekhar\\n\\n\\n\\n\\n\\n\\n\\n\\n\\nGujarat administration has kept communication channels open with Tesla: CM\\n\\n\\n\\n\\n\\n\\n\\n\\n\\nMint Primer: A fissured land: Israel, Palestine and Hamas\\n\\n\\n\\n\\n\\n\\n\\n\\n\\nMint Explainer: Why Indian aviation expects a historic Q3\\n\\n\\n\\n\\n\\n\\n\\n\\n\\nSelf-made entrepreneurs tighten hold over India\\'s super-rich list\\n\\n\\n\\n\\n\\n\\n\\n\\n\\nMint Explainer: How India is increasing its outreach in Africa\\n\\n\\n\\n\\n\\n\\n\\n\\n\\nLive events organizers gear up for hectic festive season\\n\\n\\n\\n\\n\\n\\n\\n\\n\\nEscalation of Israel-Hamas war could hit corridor plans\\n\\n\\n\\n\\n\\n\\n\\n\\n\\nReady web shows struggle to find OTT buyers\\n\\n\\n\\n\\n\\n\\n\\n\\n\\nBYD execs fail to get Indian visas\\n\\n\\n\\n\\n\\n\\nExplore Premium\\n\\n\\n\\n\\n                Catch all the Business News, Market News, Breaking News Events and Latest News Updates on Live Mint.\\n        Download The Mint News App to get Daily Market Updates.\\n    \\nMore\\nLess\\n \\n\\t\\tUpdated: 11 Oct 2023, 03:59 PM IST\\n\\t\\nTopics \\nbusiness news\\n\\n\\n\\n\\n\\n\\n\\n\\n\\n\\nOPEN IN APP\\n\\nNext Story\\n\\n\\n\\n   \\n\\n\\n \\n\\n\\n\\n\\n\\n\\n\\n\\n\\n\\n\\n\\nRecommended For You\\n\\n\\n\\n\\n\\n\\n\\n\\n\\n\\n\\n\\n\\n\\n\\n\\n\\n\\n\\n\\n \\n\\n\\n \\n\\n\\n \\n\\n\\n\\n\\n\\nFeedback\\n\\n\\n\\nSelect your Category\\n\\nQuery Suggestion\\n\\n\\n\\nYour Message\\n\\n\\n\\n\\n\\n\\n\\n\\n\\n\\n         Connect with us:                           trending stories Sensex Today New Zealand vs Bangladesh Live Israel-Hamas War LIVE Cost of living LIVE Stocks to Watch Nifty 50 Global markets today Operation Ajay Kerala rains World Egg Day Earthquake Afghanistan Amazon Sale 2023 Amazon Sale: Up to 73% off on wireless earphones Best Air Purifier  Best water purifier Best washing machine in India Best refrigerator Best room heater  Best geyser in India   Data Pages Quarterly Results Calendar Petrol Prices Diesel Prices MCX Gold Price MCX Silver Price TCS Q2 Results Gold Price Silver Price Infosys Q2 Results   popular stocks JSW INFRASTRUCTURE share price MANOJ VAIBHAV GEMS JEWELLERS share price EMS share price R R KABEL share price CONCORD BIOTECH share price IDBI Bank share price Yes Bank share price Infosys share price Patanjali share price Adani Power share price Tata Steel share price HUL share price Indian Oil share price Spicejet share price TCS share price Asian Paints share price HDFC Bank share price ZAGGLE share price SAMHI HOTELS share price Tata Power share price Reliance share price Suzlon share price Adani Enterprises share price ITC share price ICICI Bank share price Vedanta share price Suzlon share price Live Jio Financial Services share price Sun Pharmaceutical share price  Jsw Steel share price  NHPC share price    latest stories India vs Pakistan Live Score, Cricket World Cup 2023 Updates: 8-0 for India? Israel-Hamas war: 2nd flight carrying 235 Indian nationals lands in Delhi Telangana blast: Reactor explodes at private laboratory in Sangareddy Ministry probing accounts of Adani Enterprises\\' two airports IND vs PAK match prediction Gold price registers biggest gain on MCX since March 2023. Buy, sell opr hold? Mumbai airport shut news: No flight operations for six hours next week Google Doodle: Giant search engine celebrates New Zealand general elections 2023 Israel-Hamas war Day 8: Death toll rises to 3,200. Top-10 updates Israel-Hamas War LIVE: Palestinians face Israeli deadline to leave northern Gaza   Nifty 50 Companies ADANIENT share price ADANIPORTS share price APOLLOHOSP share price ASIANPAINT share price AXISBANK share price BAJAJ-AUTO share price BAJFINANCE share price BAJAJFINSV share price BPCL share price BHARTIARTL share price BRITANNIA share price CIPLA share price COALINDIA share price DIVISLAB share price DRREDDY share price EICHERMOT share price GRASIM share price HCLTECH share price HDFCBANK share price HDFCLIFE share price HEROMOTOCO share price HINDALCO share price HINDUNILVR share price ICICIBANK share price ITC share price INDUSINDBK share price INFY share price JSWSTEEL share price KOTAKBANK share price LT share price M&M share price MARUTI share price NTPC share price NESTLEIND share price ONGC share price POWERGRID share price RELIANCE share price SBILIFE share price SBIN share price SUNPHARMA share price TCS share price TATAMOTORS share price TATASTEEL share price TATACONSUM share price TECHM share price TITAN share price UPL share price ULTRACEMCO share price WIPRO share price      DOWNLOAD APP Download the Mint app and read premium stories        About Us   Contact Us   Terms Of Use   Privacy Policy   RSS                                  Copyright © 2023 HT Digital Streams Ltd All Right Reserved    \\n\\nNo NetworkServer IssueInternet Not AvailableWait for it…Log in to our website to save your bookmarks. It\\'ll just take a moment.Yes, Continue\\nYou are just one step away from creating your watchlist!Login NowWait for it…Oops! Looks like you have exceeded the limit to bookmark the image. Remove some to bookmark this image.  Your session has expired, please login again.Yes, Continue\\nCongratulations!You are now subscribed to our newsletters. In case you can’t find any email from our side, please check the spam folder.\\n\\n\\n\\n\\n\\n\\n\\n\\n\\n\\n\\n\\n\\n\\n\\n\\n\\n\\n\\n\\n\\n\\n×\\n\\n\\n\\n ×           Get alerts on WhatsApp  Set Preferences My Reads Watchlist Feedback Redeem a Gift Card Logout  \\n\\n\\n\\n\\n\\n\\n      Subscribe to continue This is a subscriber only feature Subscribe Now to get daily updates on WhatsApp \\xa0\\xa0       \\n\\n\\n\\n\\n\\n\\n\\n\\n\\n    \\n\\n\\n\\n \\n\\n\\n\\n\\n\\n'"
      ]
     },
     "execution_count": 4,
     "metadata": {},
     "output_type": "execute_result"
    }
   ],
   "source": [
    "article_text = soup.get_text()\n",
    "article_text"
   ]
  },
  {
   "cell_type": "code",
   "execution_count": 5,
   "id": "b07069da",
   "metadata": {},
   "outputs": [],
   "source": [
    "p_tags = soup.find_all('p')"
   ]
  },
  {
   "cell_type": "code",
   "execution_count": 6,
   "id": "4dde7337",
   "metadata": {},
   "outputs": [
    {
     "data": {
      "text/plain": [
       "'      The Securities and Exchange Board of India is probing the ties between India\\'s ports-to-power conglomerate Adani Group and Gulf Asia Trade & Investment, a fund that is incorporated in the British Virgin Islands, news agency Reuters reported on October 11, citing sources who are privy to the development.   The investigation has been launched to ascertain whether any share ownership rules were flouted, the report claimed, based on the inputs it received from two persons who are aware of the matter.   The Gulf Asia fund, the report said, is owned by Dubai-based businessman Nasser Ali Shaban Ali as per the checks on its website last month. The website has since been pulled down, it added.   As per the data shared by the Organised Crime and Corruption Reporting Project (OCCRP) with Reuters, the fund has invested in several listed Adani entities. Exciting news! Mint is now on WhatsApp Channels. Subscribe today by clicking the link and stay updated with the latest financial insights! Click here!   The latest probe, as per the report, is part of the Indian market regulator\\'s investigation into the Gautam Adani-led conglomerate, which was accused of accountancy fraud and stocks manipulation, in a damning report released by short-seller Hindenburg Research in January. The report had alleged that offshore shell firms \"surreptitiously\" owned stake in Adani\\'s listed arms, thereby posing governance risks.   The SEBI probing officials could be closely looking at whether the ties between the Gulf Asia fund and Adani Group would be deemed to be acting “in concert\" with the conglomerate\\'s shareholders, the sources who spoke to Reuters said.   Adani Group has so far rejected the allegation of opaque funding and accountancy fraud. The company dismissed the charges levelled by OCCRP, and had described the report released by Hindenburg as a “calculated attack on India\".   The OCCRP data, shared with Reuters, shows that Gulf Asia started investing in Adani\\'s listed firms months after SEBI had, in June 2013, directed a total of 105 companies to raise the number of shares held by the public to at least 2 percent of their total floats.   Gulf Asia held shares worth $51.4 million in two Adani entities – the flagship Adani Enterprises and Adani Power – as of April 2014, the report said, citing OCCRP data.\\xa0   The shareholding increased to $202 million in four entities – Adani Enterprises, Adani Transmission, Adani Ports and Adani Power, the report added, further stating that Adani Enterprises did not list Gulf Asia as a related party in its annual reports.   Adani Group was yet to issue a statement in response to the Reuters report as the time of publishing this report. The Gulf Asia fund was also yet to react to the news.   In a statement issued in September, days after OCCRP released its startling report that raised questions against the Adani Group, the company had said: “We categorically reject these recycled allegations. These news reports appear to be yet another concerted bid by Soros-funded interests supported by a section of the foreign media to revive the meritless Hindenburg report.\"\"Exciting news! Mint is now on WhatsApp Channels 🚀 Subscribe today by clicking the link and stay updated with the latest financial insights!\" Click here! Download the Mint app and read premium storiesLog in to our website to save your bookmarks. It\\'ll just take a moment.You are just one step away from creating your watchlist!Oops! Looks like you have exceeded the limit to bookmark the image. Remove some to bookmark this image.Your session has expired, please login again.You are now subscribed to our newsletters. In case you can’t find any email from our side, please check the spam folder.This is a subscriber only feature Subscribe Now to get daily updates on WhatsApp'"
      ]
     },
     "execution_count": 6,
     "metadata": {},
     "output_type": "execute_result"
    }
   ],
   "source": [
    "article_text = \"\"\n",
    "for i in p_tags:\n",
    "    article_text += i.get_text()\n",
    "\n",
    "article_text.strip()\n",
    "article_text"
   ]
  },
  {
   "cell_type": "code",
   "execution_count": 10,
   "id": "6e734308",
   "metadata": {},
   "outputs": [
    {
     "name": "stdout",
     "output_type": "stream",
     "text": [
      "Requirement already satisfied: transformers in c:\\users\\prana\\appdata\\local\\programs\\python\\python310\\lib\\site-packages (4.34.0)\n",
      "Collecting Sentencepiece\n",
      "  Downloading sentencepiece-0.1.99-cp310-cp310-win_amd64.whl (977 kB)\n",
      "     -------------------------------------- 977.5/977.5 kB 3.7 MB/s eta 0:00:00\n",
      "Collecting accelerate\n",
      "  Downloading accelerate-0.23.0-py3-none-any.whl (258 kB)\n",
      "     -------------------------------------- 258.1/258.1 kB 5.4 MB/s eta 0:00:00\n",
      "Requirement already satisfied: filelock in c:\\users\\prana\\appdata\\local\\programs\\python\\python310\\lib\\site-packages (from transformers) (3.3.2)\n",
      "Requirement already satisfied: huggingface-hub<1.0,>=0.16.4 in c:\\users\\prana\\appdata\\local\\programs\\python\\python310\\lib\\site-packages (from transformers) (0.17.3)\n",
      "Requirement already satisfied: numpy>=1.17 in c:\\users\\prana\\appdata\\local\\programs\\python\\python310\\lib\\site-packages (from transformers) (1.23.2)\n",
      "Requirement already satisfied: packaging>=20.0 in c:\\users\\prana\\appdata\\local\\programs\\python\\python310\\lib\\site-packages (from transformers) (21.3)\n",
      "Requirement already satisfied: pyyaml>=5.1 in c:\\users\\prana\\appdata\\local\\programs\\python\\python310\\lib\\site-packages (from transformers) (6.0.1)\n",
      "Requirement already satisfied: regex!=2019.12.17 in c:\\users\\prana\\appdata\\local\\programs\\python\\python310\\lib\\site-packages (from transformers) (2022.10.31)\n",
      "Requirement already satisfied: requests in c:\\users\\prana\\appdata\\local\\programs\\python\\python310\\lib\\site-packages (from transformers) (2.28.1)\n",
      "Requirement already satisfied: tokenizers<0.15,>=0.14 in c:\\users\\prana\\appdata\\local\\programs\\python\\python310\\lib\\site-packages (from transformers) (0.14.1)\n",
      "Requirement already satisfied: safetensors>=0.3.1 in c:\\users\\prana\\appdata\\local\\programs\\python\\python310\\lib\\site-packages (from transformers) (0.4.0)\n",
      "Requirement already satisfied: tqdm>=4.27 in c:\\users\\prana\\appdata\\local\\programs\\python\\python310\\lib\\site-packages (from transformers) (4.65.0)\n",
      "Requirement already satisfied: psutil in c:\\users\\prana\\appdata\\local\\programs\\python\\python310\\lib\\site-packages (from accelerate) (5.9.2)\n",
      "Requirement already satisfied: torch>=1.10.0 in c:\\users\\prana\\appdata\\local\\programs\\python\\python310\\lib\\site-packages (from accelerate) (2.0.1)\n",
      "Requirement already satisfied: fsspec in c:\\users\\prana\\appdata\\local\\programs\\python\\python310\\lib\\site-packages (from huggingface-hub<1.0,>=0.16.4->transformers) (2023.9.2)\n",
      "Requirement already satisfied: typing-extensions>=3.7.4.3 in c:\\users\\prana\\appdata\\local\\programs\\python\\python310\\lib\\site-packages (from huggingface-hub<1.0,>=0.16.4->transformers) (4.5.0)\n",
      "Requirement already satisfied: pyparsing!=3.0.5,>=2.0.2 in c:\\users\\prana\\appdata\\local\\programs\\python\\python310\\lib\\site-packages (from packaging>=20.0->transformers) (3.0.9)\n",
      "Requirement already satisfied: sympy in c:\\users\\prana\\appdata\\local\\programs\\python\\python310\\lib\\site-packages (from torch>=1.10.0->accelerate) (1.11.1)\n",
      "Requirement already satisfied: networkx in c:\\users\\prana\\appdata\\local\\programs\\python\\python310\\lib\\site-packages (from torch>=1.10.0->accelerate) (3.0)\n",
      "Requirement already satisfied: jinja2 in c:\\users\\prana\\appdata\\local\\programs\\python\\python310\\lib\\site-packages (from torch>=1.10.0->accelerate) (3.1.2)\n",
      "Requirement already satisfied: colorama in c:\\users\\prana\\appdata\\local\\programs\\python\\python310\\lib\\site-packages (from tqdm>=4.27->transformers) (0.4.5)\n",
      "Requirement already satisfied: charset-normalizer<3,>=2 in c:\\users\\prana\\appdata\\local\\programs\\python\\python310\\lib\\site-packages (from requests->transformers) (2.1.0)\n",
      "Requirement already satisfied: idna<4,>=2.5 in c:\\users\\prana\\appdata\\local\\programs\\python\\python310\\lib\\site-packages (from requests->transformers) (3.3)\n",
      "Requirement already satisfied: urllib3<1.27,>=1.21.1 in c:\\users\\prana\\appdata\\local\\programs\\python\\python310\\lib\\site-packages (from requests->transformers) (1.26.11)\n",
      "Requirement already satisfied: certifi>=2017.4.17 in c:\\users\\prana\\appdata\\local\\programs\\python\\python310\\lib\\site-packages (from requests->transformers) (2021.10.8)\n",
      "Requirement already satisfied: MarkupSafe>=2.0 in c:\\users\\prana\\appdata\\local\\programs\\python\\python310\\lib\\site-packages (from jinja2->torch>=1.10.0->accelerate) (2.1.1)\n",
      "Requirement already satisfied: mpmath>=0.19 in c:\\users\\prana\\appdata\\local\\programs\\python\\python310\\lib\\site-packages (from sympy->torch>=1.10.0->accelerate) (1.3.0)\n",
      "Installing collected packages: Sentencepiece, accelerate\n",
      "Successfully installed Sentencepiece-0.1.99 accelerate-0.23.0\n"
     ]
    },
    {
     "name": "stderr",
     "output_type": "stream",
     "text": [
      "\n",
      "[notice] A new release of pip is available: 23.1.2 -> 23.2.1\n",
      "[notice] To update, run: python.exe -m pip install --upgrade pip\n"
     ]
    },
    {
     "ename": "ImportError",
     "evalue": "\nLlamaTokenizer requires the SentencePiece library but it was not found in your environment. Checkout the instructions on the\ninstallation page of its repo: https://github.com/google/sentencepiece#installation and follow the ones\nthat match your environment. Please note that you may need to restart your runtime after installation.\n",
     "output_type": "error",
     "traceback": [
      "\u001b[1;31m---------------------------------------------------------------------------\u001b[0m",
      "\u001b[1;31mImportError\u001b[0m                               Traceback (most recent call last)",
      "\u001b[1;32mc:\\PRANAV\\PESU\\Hallothon\\Untitled.ipynb Cell 7\u001b[0m line \u001b[0;36m5\n\u001b[0;32m      <a href='vscode-notebook-cell:/c%3A/PRANAV/PESU/Hallothon/Untitled.ipynb#W6sZmlsZQ%3D%3D?line=1'>2</a>\u001b[0m \u001b[39mimport\u001b[39;00m \u001b[39mtransformers\u001b[39;00m\u001b[39m,\u001b[39m \u001b[39mtorch\u001b[39;00m\n\u001b[0;32m      <a href='vscode-notebook-cell:/c%3A/PRANAV/PESU/Hallothon/Untitled.ipynb#W6sZmlsZQ%3D%3D?line=2'>3</a>\u001b[0m \u001b[39mfrom\u001b[39;00m \u001b[39mtransformers\u001b[39;00m \u001b[39mimport\u001b[39;00m LlamaTokenizer, LlamaForCausalLM, GenerationConfig\n\u001b[1;32m----> <a href='vscode-notebook-cell:/c%3A/PRANAV/PESU/Hallothon/Untitled.ipynb#W6sZmlsZQ%3D%3D?line=4'>5</a>\u001b[0m tokenizer \u001b[39m=\u001b[39m LlamaTokenizer\u001b[39m.\u001b[39mfrom_pretrained(\u001b[39m\"\u001b[39m\u001b[39mdecapoda-research/llama-7b-hf\u001b[39m\u001b[39m\"\u001b[39m)\n\u001b[0;32m      <a href='vscode-notebook-cell:/c%3A/PRANAV/PESU/Hallothon/Untitled.ipynb#W6sZmlsZQ%3D%3D?line=5'>6</a>\u001b[0m model \u001b[39m=\u001b[39m LlamaForCausalLM\u001b[39m.\u001b[39mfrom_pretrained(\n\u001b[0;32m      <a href='vscode-notebook-cell:/c%3A/PRANAV/PESU/Hallothon/Untitled.ipynb#W6sZmlsZQ%3D%3D?line=6'>7</a>\u001b[0m         \u001b[39m\"\u001b[39m\u001b[39mdecapoda-research/llama-7b-hf\u001b[39m\u001b[39m\"\u001b[39m,\n\u001b[0;32m      <a href='vscode-notebook-cell:/c%3A/PRANAV/PESU/Hallothon/Untitled.ipynb#W6sZmlsZQ%3D%3D?line=7'>8</a>\u001b[0m         load_in_8bit\u001b[39m=\u001b[39m\u001b[39mFalse\u001b[39;00m,\n\u001b[0;32m      <a href='vscode-notebook-cell:/c%3A/PRANAV/PESU/Hallothon/Untitled.ipynb#W6sZmlsZQ%3D%3D?line=8'>9</a>\u001b[0m         torch_dtype\u001b[39m=\u001b[39mtorch\u001b[39m.\u001b[39mfloat16,\n\u001b[0;32m     <a href='vscode-notebook-cell:/c%3A/PRANAV/PESU/Hallothon/Untitled.ipynb#W6sZmlsZQ%3D%3D?line=9'>10</a>\u001b[0m         device_map\u001b[39m=\u001b[39m\u001b[39m\"\u001b[39m\u001b[39mauto\u001b[39m\u001b[39m\"\u001b[39m,\n\u001b[0;32m     <a href='vscode-notebook-cell:/c%3A/PRANAV/PESU/Hallothon/Untitled.ipynb#W6sZmlsZQ%3D%3D?line=10'>11</a>\u001b[0m     )\n",
      "File \u001b[1;32mc:\\Users\\prana\\AppData\\Local\\Programs\\Python\\Python310\\lib\\site-packages\\transformers\\utils\\import_utils.py:1222\u001b[0m, in \u001b[0;36mDummyObject.__getattribute__\u001b[1;34m(cls, key)\u001b[0m\n\u001b[0;32m   1220\u001b[0m \u001b[39mif\u001b[39;00m key\u001b[39m.\u001b[39mstartswith(\u001b[39m\"\u001b[39m\u001b[39m_\u001b[39m\u001b[39m\"\u001b[39m) \u001b[39mand\u001b[39;00m key \u001b[39m!=\u001b[39m \u001b[39m\"\u001b[39m\u001b[39m_from_config\u001b[39m\u001b[39m\"\u001b[39m:\n\u001b[0;32m   1221\u001b[0m     \u001b[39mreturn\u001b[39;00m \u001b[39msuper\u001b[39m()\u001b[39m.\u001b[39m\u001b[39m__getattribute__\u001b[39m(key)\n\u001b[1;32m-> 1222\u001b[0m requires_backends(\u001b[39mcls\u001b[39;49m, \u001b[39mcls\u001b[39;49m\u001b[39m.\u001b[39;49m_backends)\n",
      "File \u001b[1;32mc:\\Users\\prana\\AppData\\Local\\Programs\\Python\\Python310\\lib\\site-packages\\transformers\\utils\\import_utils.py:1210\u001b[0m, in \u001b[0;36mrequires_backends\u001b[1;34m(obj, backends)\u001b[0m\n\u001b[0;32m   1208\u001b[0m failed \u001b[39m=\u001b[39m [msg\u001b[39m.\u001b[39mformat(name) \u001b[39mfor\u001b[39;00m available, msg \u001b[39min\u001b[39;00m checks \u001b[39mif\u001b[39;00m \u001b[39mnot\u001b[39;00m available()]\n\u001b[0;32m   1209\u001b[0m \u001b[39mif\u001b[39;00m failed:\n\u001b[1;32m-> 1210\u001b[0m     \u001b[39mraise\u001b[39;00m \u001b[39mImportError\u001b[39;00m(\u001b[39m\"\u001b[39m\u001b[39m\"\u001b[39m\u001b[39m.\u001b[39mjoin(failed))\n",
      "\u001b[1;31mImportError\u001b[0m: \nLlamaTokenizer requires the SentencePiece library but it was not found in your environment. Checkout the instructions on the\ninstallation page of its repo: https://github.com/google/sentencepiece#installation and follow the ones\nthat match your environment. Please note that you may need to restart your runtime after installation.\n"
     ]
    }
   ],
   "source": [
    "!pip install transformers Sentencepiece accelerate\n",
    "import transformers, torch\n",
    "from transformers import LlamaTokenizer, LlamaForCausalLM, GenerationConfig\n",
    "\n",
    "tokenizer = LlamaTokenizer.from_pretrained(\"decapoda-research/llama-7b-hf\")\n",
    "model = LlamaForCausalLM.from_pretrained(\n",
    "        \"decapoda-research/llama-7b-hf\",\n",
    "        load_in_8bit=False,\n",
    "        torch_dtype=torch.float16,\n",
    "        device_map=\"auto\",\n",
    "    )"
   ]
  },
  {
   "cell_type": "code",
   "execution_count": 2,
   "id": "1d5359bd",
   "metadata": {},
   "outputs": [
    {
     "ename": "NameError",
     "evalue": "name 'article_text' is not defined",
     "output_type": "error",
     "traceback": [
      "\u001b[0;31m---------------------------------------------------------------------------\u001b[0m",
      "\u001b[0;31mNameError\u001b[0m                                 Traceback (most recent call last)",
      "\u001b[0;32m/var/folders/l8/_0w3pnss2s93y8f87j7j4p9w0000gn/T/ipykernel_69999/2109072243.py\u001b[0m in \u001b[0;36m<module>\u001b[0;34m\u001b[0m\n\u001b[0;32m----> 1\u001b[0;31m \u001b[0minstruction\u001b[0m \u001b[0;34m=\u001b[0m \u001b[0;34m\"Purge all of the spam information from \"\u001b[0m\u001b[0;34m+\u001b[0m\u001b[0marticle_text\u001b[0m\u001b[0;34m\u001b[0m\u001b[0;34m\u001b[0m\u001b[0m\n\u001b[0m\u001b[1;32m      2\u001b[0m inputs = tokenizer(\n\u001b[1;32m      3\u001b[0m     f\"\"\"Below is an instruction that describes a task. Write a response that appropriately completes the request.\n\u001b[1;32m      4\u001b[0m \u001b[0;31m### Instruction: {instruction}\u001b[0m\u001b[0;34m\u001b[0m\u001b[0;34m\u001b[0m\u001b[0m\n\u001b[1;32m      5\u001b[0m \u001b[0;31m### Response:\"\"\",\u001b[0m\u001b[0;34m\u001b[0m\u001b[0;34m\u001b[0m\u001b[0m\n",
      "\u001b[0;31mNameError\u001b[0m: name 'article_text' is not defined"
     ]
    }
   ],
   "source": [
    "instruction = \"Purge all of the spam information from \"+article_text\n",
    "inputs = tokenizer(\n",
    "    f\"\"\"Below is an instruction that describes a task. Write a response that appropriately completes the request.\n",
    "### Instruction: {instruction}\n",
    "### Response:\"\"\",\n",
    "    return_tensors=\"pt\",\n",
    ")\n",
    "input_ids = inputs[\"input_ids\"].to(\"cuda\")\n",
    "\n",
    "generation_config = transformers.GenerationConfig(\n",
    "    do_sample=True,\n",
    "    temperature=0.1,\n",
    "    top_p=0.75,\n",
    "    top_k=80,\n",
    "    repetition_penalty=1.5,\n",
    "    max_new_tokens=128,\n",
    ")\n",
    "\n",
    "with torch.no_grad():\n",
    "    generation_output = model.generate(\n",
    "        input_ids=input_ids,\n",
    "        attention_mask=torch.ones_like(input_ids),\n",
    "        generation_config=generation_config,\n",
    "    )\n",
    "output_text = tokenizer.decode(\n",
    "    generation_output[0].cuda(), skip_special_tokens=True\n",
    ").strip()\n",
    "print(output_text)"
   ]
  }
 ],
 "metadata": {
  "interpreter": {
   "hash": "bca366f5b7e52d741c2605a1ebc2b9b92cad40a3726cc7c878c43c953d192e5e"
  },
  "kernelspec": {
   "display_name": "Python 3.9.7 ('base': conda)",
   "language": "python",
   "name": "python3"
  },
  "language_info": {
   "codemirror_mode": {
    "name": "ipython",
    "version": 3
   },
   "file_extension": ".py",
   "mimetype": "text/x-python",
   "name": "python",
   "nbconvert_exporter": "python",
   "pygments_lexer": "ipython3",
   "version": "3.10.0"
  }
 },
 "nbformat": 4,
 "nbformat_minor": 5
}
